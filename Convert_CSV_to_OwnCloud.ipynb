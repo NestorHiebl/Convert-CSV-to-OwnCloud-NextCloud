{
 "cells": [
  {
   "cell_type": "code",
   "execution_count": 120,
   "metadata": {},
   "outputs": [],
   "source": [
    "import owncloud\n",
    "import pandas as pd\n",
    "import numpy as np\n",
    "import smtplib\n",
    "import ssl\n",
    "from email.message import EmailMessage\n",
    "import unidecode\n",
    "import random\n",
    "import string\n",
    "import os\n",
    "\n",
    "users = pd.read_csv('Mitgliederliste_CSV.csv')"
   ]
  },
  {
   "cell_type": "markdown",
   "metadata": {},
   "source": [
    "The settings cell: this is where you input your email client and OwnCloud parameters, as well as some additional info. \n",
    "\n",
    "**username_connector** is used to remove conjuntions from the usernames of accounts shared by several people. For example, if it is set to *' and '*, the username *'Ursula and Fiona'* will be formated as *'UrsulaFiona'*.\n",
    "\n",
    "**email_subject** sets the subject of the email that you'll be sending out."
   ]
  },
  {
   "cell_type": "code",
   "execution_count": 1,
   "metadata": {},
   "outputs": [],
   "source": [
    "port = 587\n",
    "smtp_server = os.environ.get('MISCHA_BOTMAIL_SMTP')\n",
    "password = os.environ.get('MISCHA_BOTMAIL_PASS')\n",
    "sender_mail = os.environ.get('MISCHA_BOTMAIL_USER')\n",
    "\n",
    "oc = owncloud.Client(os.environ.get('MISCHA_OWNCLOUD_URL'))\n",
    "oc.login(os.environ.get('NESTOR_OWNCLOUD_USER'), os.environ.get('NESTOR_OWNCLOUD_PASS'))\n",
    "\n",
    "username_connector = ' und '\n",
    "\n",
    "email_subject = 'NextCloud Account'"
   ]
  },
  {
   "cell_type": "markdown",
   "metadata": {},
   "source": [
    "The main function of the script, does all the work aside from creating OwnCloud Groups. Note that the cell only defines the function and does not execute it."
   ]
  },
  {
   "cell_type": "code",
   "execution_count": 124,
   "metadata": {},
   "outputs": [],
   "source": [
    "# \n",
    "\n",
    "def Make_Notify(csv):\n",
    "    Total_list = []\n",
    "    for index, row in csv.iterrows():\n",
    "\n",
    "        # Formats usernames in the following ways:\n",
    "        # 1. Removes spaces\n",
    "        # 2. Removes the connector string for accounts used by multiple people\n",
    "        # 3. Removes any inconvenient accented characters\n",
    "        # 4. Appends the apartment number\n",
    "\n",
    "        if not pd.isna(row['Vorname']):\n",
    "            if not username_connector in row['Vorname']:\n",
    "                Usersafe = row['Vorname'].replace(' ', '')\n",
    "            else:\n",
    "                Usersafe = row['Vorname'].replace(username_connector, '')\n",
    "            Usersafe += str(row['TopNr.'])\n",
    "            Usersafe = unidecode.unidecode(Usersafe)\n",
    "\n",
    "        # Generates a random temporary 5 digit PIN for every user and logs it in a .txt file\n",
    "\n",
    "        if not pd.isna(row['E-Mail']):\n",
    "            UserPass = ''.join(random.choice(string.ascii_uppercase + string.digits) for i in range(8))\n",
    "            logstring = Usersafe + ' ' + UserPass + ' ' + row['E-Mail'] + '\\n'\n",
    "            logfile = open('Log.txt', 'a')\n",
    "            logfile.write(logstring)\n",
    "            logfile.close()\n",
    "            \n",
    "            # Builds the email header and body\n",
    "\n",
    "            msg = EmailMessage()\n",
    "            msg['Subject'] = email_subject\n",
    "            msg['From'] =  sender_mail\n",
    "            msg['To'] = row['E-Mail']\n",
    "\n",
    "            mail_text = f'Ein Mischa Nextcloud Account wurde für dich erstellt! Du kannst dich unter {os.environ.get('MISCHA_OWNCLOUD_URL')} mit den folgenden Daten einloggen: \\nUsername: {Usersafe} \\nKennwort: {UserPass} \\nDas Kennwort wurde nur für die erste Benutzung generiert. Bitte log dich ein und ändere das Passwort. \\nDiese E-Mail wurde automatisch generiert. Falls du Fragen hast, poste sie bitte ins Slack. \\n\\n---\\n\\nA Mischa Nextcloud account has been created for you. You can log in at https://mehr.mischa.wien using the following credentials: \\nUsername: {Usersafe} \\nPassword: {UserPass} \\nThe password is meant to be used only once, the first time you log in. Please change it as soon as possible.\\nThis E-Mail was automatically generated. In case you have any questions, please post them in our Slack.'\n",
    "            msg.set_content(mail_text)\n",
    "            server.send_message(msg)\n",
    "\n",
    "            # Checks if the user exists and they do not, makes an accound and adds it to each group listed\n",
    "\n",
    "            if not oc.user_exists(Usersafe):\n",
    "                oc.create_user(Usersafe, UserPass)\n",
    "\n",
    "            if not pd.isna(row['TG']):\n",
    "                TGuser = str(row['TG']).split(', ')\n",
    "            \n",
    "                for TG in TGuser:\n",
    "                    oc.add_user_to_group(Usersafe, TG)"
   ]
  },
  {
   "cell_type": "markdown",
   "metadata": {},
   "source": [
    "This cell creates the groups present in the CSV, without adding any users to them."
   ]
  },
  {
   "cell_type": "code",
   "execution_count": 42,
   "metadata": {},
   "outputs": [
    {
     "output_type": "stream",
     "name": "stdout",
     "text": "['TG Hochbeetli', 'TG Technik', 'TG Workshops', 'TG Feste Werkstatt', 'TG Fitness', 'TG Küche', 'TG FairPlay', 'TG Freiraum', 'TG Heimkino', 'TG Website', 'TG Kooperationsvereinbarung']\n"
    }
   ],
   "source": [
    "# Gets list of all Groups\n",
    "\n",
    "TGlist = []\n",
    "\n",
    "for index, row in users.iterrows():\n",
    "        TGuser = str(row['TG']).split(', ')\n",
    "        if TGuser != ['nan']:\n",
    "            for element in TGuser:\n",
    "                    if element not in TGlist:\n",
    "                        TGlist.append(element)\n",
    "print(TGlist)\n",
    "\n",
    "# Creates the Groups\n",
    "\n",
    "for element in TGlist:\n",
    "    if not oc.group_exists(element):\n",
    "        oc.create_group(element)"
   ]
  },
  {
   "cell_type": "markdown",
   "metadata": {},
   "source": [
    "The cell below connects to the email server, then executes the main Make_Notify() function, creating a Nextcloud account for each person in the CSV and sending them a notification. Running it will take longer based on the amount of users you're making."
   ]
  },
  {
   "cell_type": "code",
   "execution_count": 125,
   "metadata": {},
   "outputs": [],
   "source": [
    "context = ssl.create_default_context()\n",
    "\n",
    "try:\n",
    "    server = smtplib.SMTP(smtp_server, port)\n",
    "    server.ehlo()\n",
    "    server.starttls(context=context)\n",
    "    server.ehlo()\n",
    "    server.login(sender_mail, password)\n",
    "\n",
    "    #Send message here\n",
    "    Make_Notify(users)\n",
    "\n",
    "except Exception as e:\n",
    "    print(e)\n",
    "finally:\n",
    "    server.quit()"
   ]
  }
 ],
 "metadata": {
  "language_info": {
   "codemirror_mode": {
    "name": "ipython",
    "version": 3
   },
   "file_extension": ".py",
   "mimetype": "text/x-python",
   "name": "python",
   "nbconvert_exporter": "python",
   "pygments_lexer": "ipython3",
   "version": "3.8.2-final"
  },
  "orig_nbformat": 2,
  "kernelspec": {
   "name": "python38264bite03f92d6ee314d25bcdb40aca9e0647a",
   "display_name": "Python 3.8.2 64-bit"
  }
 },
 "nbformat": 4,
 "nbformat_minor": 2
}